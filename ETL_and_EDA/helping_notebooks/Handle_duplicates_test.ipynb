{
 "cells": [
  {
   "cell_type": "code",
   "execution_count": 1,
   "id": "initial_id",
   "metadata": {
    "collapsed": true,
    "ExecuteTime": {
     "end_time": "2025-03-04T17:27:21.478728300Z",
     "start_time": "2025-03-04T17:27:20.452440500Z"
    }
   },
   "outputs": [],
   "source": [
    "import pandas as pd"
   ]
  },
  {
   "cell_type": "code",
   "outputs": [
    {
     "data": {
      "text/plain": "     image_name_1  image_name_2\n0    ISIC_0079038  ISIC_8521950\n1    ISIC_0087297  ISIC_4755972\n2    ISIC_0088137  ISIC_4201955\n3    ISIC_0112097  ISIC_5934021\n4    ISIC_0148783  ISIC_7460560\n..            ...           ...\n420  ISIC_8879370  ISIC_9596146\n421  ISIC_8889856  ISIC_9677697\n422  ISIC_8987085  ISIC_9751079\n423  ISIC_9218360  ISIC_9913406\n424  ISIC_9432244  ISIC_9645937\n\n[425 rows x 2 columns]",
      "text/html": "<div>\n<style scoped>\n    .dataframe tbody tr th:only-of-type {\n        vertical-align: middle;\n    }\n\n    .dataframe tbody tr th {\n        vertical-align: top;\n    }\n\n    .dataframe thead th {\n        text-align: right;\n    }\n</style>\n<table border=\"1\" class=\"dataframe\">\n  <thead>\n    <tr style=\"text-align: right;\">\n      <th></th>\n      <th>image_name_1</th>\n      <th>image_name_2</th>\n    </tr>\n  </thead>\n  <tbody>\n    <tr>\n      <th>0</th>\n      <td>ISIC_0079038</td>\n      <td>ISIC_8521950</td>\n    </tr>\n    <tr>\n      <th>1</th>\n      <td>ISIC_0087297</td>\n      <td>ISIC_4755972</td>\n    </tr>\n    <tr>\n      <th>2</th>\n      <td>ISIC_0088137</td>\n      <td>ISIC_4201955</td>\n    </tr>\n    <tr>\n      <th>3</th>\n      <td>ISIC_0112097</td>\n      <td>ISIC_5934021</td>\n    </tr>\n    <tr>\n      <th>4</th>\n      <td>ISIC_0148783</td>\n      <td>ISIC_7460560</td>\n    </tr>\n    <tr>\n      <th>...</th>\n      <td>...</td>\n      <td>...</td>\n    </tr>\n    <tr>\n      <th>420</th>\n      <td>ISIC_8879370</td>\n      <td>ISIC_9596146</td>\n    </tr>\n    <tr>\n      <th>421</th>\n      <td>ISIC_8889856</td>\n      <td>ISIC_9677697</td>\n    </tr>\n    <tr>\n      <th>422</th>\n      <td>ISIC_8987085</td>\n      <td>ISIC_9751079</td>\n    </tr>\n    <tr>\n      <th>423</th>\n      <td>ISIC_9218360</td>\n      <td>ISIC_9913406</td>\n    </tr>\n    <tr>\n      <th>424</th>\n      <td>ISIC_9432244</td>\n      <td>ISIC_9645937</td>\n    </tr>\n  </tbody>\n</table>\n<p>425 rows × 2 columns</p>\n</div>"
     },
     "execution_count": 3,
     "metadata": {},
     "output_type": "execute_result"
    }
   ],
   "source": [
    "dupes = pd.read_csv('../data/ISIC_2020_Training_Duplicates.csv')\n",
    "dupes"
   ],
   "metadata": {
    "collapsed": false,
    "ExecuteTime": {
     "end_time": "2025-03-04T17:27:55.626472700Z",
     "start_time": "2025-03-04T17:27:55.508553900Z"
    }
   },
   "id": "8161b241ddd3c61f",
   "execution_count": 3
  },
  {
   "cell_type": "code",
   "outputs": [],
   "source": [
    "im1_list = dupes['image_name_1'].tolist()\n",
    "im2_list = dupes['image_name_2'].tolist()\n",
    "in_two_lists_counter = 0\n",
    "problematic_duplicates = []"
   ],
   "metadata": {
    "collapsed": false,
    "ExecuteTime": {
     "end_time": "2025-03-04T17:30:50.794545900Z",
     "start_time": "2025-03-04T17:30:50.785505400Z"
    }
   },
   "id": "5332418a2aa8f981",
   "execution_count": 4
  },
  {
   "cell_type": "code",
   "outputs": [
    {
     "name": "stdout",
     "output_type": "stream",
     "text": [
      "0\n",
      "[]\n"
     ]
    }
   ],
   "source": [
    "for im2 in im2_list:\n",
    "    if im2 in im1_list:\n",
    "        in_two_lists_counter += 1\n",
    "        problematic_duplicates.append(im2)\n",
    "        \n",
    "print(in_two_lists_counter)\n",
    "print(problematic_duplicates)"
   ],
   "metadata": {
    "collapsed": false,
    "ExecuteTime": {
     "end_time": "2025-03-04T17:31:36.423289300Z",
     "start_time": "2025-03-04T17:31:36.411842300Z"
    }
   },
   "id": "55292ade6009148c",
   "execution_count": 5
  }
 ],
 "metadata": {
  "kernelspec": {
   "display_name": "Python 3",
   "language": "python",
   "name": "python3"
  },
  "language_info": {
   "codemirror_mode": {
    "name": "ipython",
    "version": 2
   },
   "file_extension": ".py",
   "mimetype": "text/x-python",
   "name": "python",
   "nbconvert_exporter": "python",
   "pygments_lexer": "ipython2",
   "version": "2.7.6"
  }
 },
 "nbformat": 4,
 "nbformat_minor": 5
}
