{
 "cells": [
  {
   "cell_type": "code",
   "execution_count": null,
   "id": "initial_id",
   "metadata": {
    "collapsed": true
   },
   "outputs": [],
   "source": [
    "import cv2\n",
    "import numpy as np\n",
    "from PIL import Image\n",
    "import matplotlib.pyplot as plt\n",
    "import pytesseract"
   ]
  },
  {
   "cell_type": "code",
   "outputs": [],
   "source": [
    "'''\n",
    "../../../Lumen_Image_Data/train/ISIC_0134357.jpg\n",
    "../../../Lumen_Image_Data/train/ISIC_0082348.jpg\n",
    "'''"
   ],
   "metadata": {
    "collapsed": false
   },
   "id": "b9c73cc2683637ac",
   "execution_count": null
  },
  {
   "cell_type": "code",
   "outputs": [],
   "source": [
    "def mask_dark_pixels(image_path, output_path=None, threshold=30, inpaint_radius=25):\n",
    "    # Read image\n",
    "    img = cv2.imread(image_path)\n",
    "    img_rgb = cv2.cvtColor(img, cv2.COLOR_BGR2RGB)\n",
    "\n",
    "    # Convert to grayscale\n",
    "    gray = cv2.cvtColor(img, cv2.COLOR_BGR2GRAY)\n",
    "\n",
    "    # Create mask - detect pixels darker than threshold\n",
    "    _, mask = cv2.threshold(gray, threshold, 255, cv2.THRESH_BINARY_INV)\n",
    "\n",
    "    # Enhance dark line detection with edge detection\n",
    "    edges = cv2.Canny(gray, 50, 150)\n",
    "    dilated_edges = cv2.dilate(edges, np.ones((3, 3), np.uint8), iterations=1)\n",
    "\n",
    "    # Combine with edge detection for better ruler line detection\n",
    "    mask = cv2.bitwise_or(mask, dilated_edges)\n",
    "\n",
    "    # Clean up mask - remove small noise and enhance coherent lines\n",
    "    kernel_open = np.ones((5, 5), np.uint8)\n",
    "    kernel_close = np.ones((7, 7), np.uint8)\n",
    "    # Opening (erosion followed by dilation) - removes small noise\n",
    "    mask = cv2.morphologyEx(mask, cv2.MORPH_OPEN, kernel_open)\n",
    "\n",
    "    # Closing (dilation followed by erosion) - closes small gaps in the mask\n",
    "    mask = cv2.morphologyEx(mask, cv2.MORPH_CLOSE, kernel_close)\n",
    "\n",
    "    # Optional: Use connected components to filter out small regions\n",
    "    num_labels, labels, stats, _ = cv2.connectedComponentsWithStats(mask, connectivity=8)\n",
    "    for i in range(1, num_labels):\n",
    "        if stats[i, cv2.CC_STAT_AREA] < 100:  # Filter regions smaller than 100 pixels\n",
    "            mask[labels == i] = 0\n",
    "\n",
    "    # Apply mask using inpainting\n",
    "    result = cv2.inpaint(img_rgb, mask, inpaintRadius=inpaint_radius, flags=cv2.INPAINT_NS)\n",
    "\n",
    "    # Display results\n",
    "    plt.figure(figsize=(15, 5))\n",
    "\n",
    "    plt.subplot(131)\n",
    "    plt.imshow(img_rgb)\n",
    "    plt.title(\"Original Image\")\n",
    "    plt.axis('off')\n",
    "\n",
    "    plt.subplot(132)\n",
    "    plt.imshow(mask, cmap='gray')\n",
    "    plt.title(\"Dark Pixels Mask\")\n",
    "    plt.axis('off')\n",
    "\n",
    "    plt.subplot(133)\n",
    "    plt.imshow(result)\n",
    "    plt.title(\"Image with Dark Pixels Removed\")\n",
    "    plt.axis('off')\n",
    "\n",
    "    plt.tight_layout()\n",
    "    plt.show()\n",
    "\n",
    "    # Save result if output path is provided\n",
    "    if output_path:\n",
    "        Image.fromarray(result).save(output_path)\n",
    "\n",
    "    return img_rgb, mask, result"
   ],
   "metadata": {
    "collapsed": false
   },
   "id": "d0c7a31e85ffd346",
   "execution_count": null
  },
  {
   "cell_type": "code",
   "outputs": [],
   "source": [
    "original, mask, processed = mask_dark_pixels('../../../Lumen_Image_Data/train/ISIC_0082348.jpg', threshold=60)"
   ],
   "metadata": {
    "collapsed": false
   },
   "id": "3c6d62979f4dacc2",
   "execution_count": null
  }
 ],
 "metadata": {
  "kernelspec": {
   "display_name": "Python 3",
   "language": "python",
   "name": "python3"
  },
  "language_info": {
   "codemirror_mode": {
    "name": "ipython",
    "version": 2
   },
   "file_extension": ".py",
   "mimetype": "text/x-python",
   "name": "python",
   "nbconvert_exporter": "python",
   "pygments_lexer": "ipython2",
   "version": "2.7.6"
  }
 },
 "nbformat": 4,
 "nbformat_minor": 5
}
