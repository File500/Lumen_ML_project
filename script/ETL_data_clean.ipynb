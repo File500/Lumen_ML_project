{
 "cells": [
  {
   "cell_type": "code",
   "execution_count": 3,
   "id": "86c449da6170918b",
   "metadata": {
    "collapsed": false
   },
   "outputs": [],
   "source": [
    "# Surpress warnings:\n",
    "def warn(*args, **kwargs):\n",
    "    pass\n",
    "import warnings\n",
    "warnings.warn = warn\n",
    "\n",
    "import numpy as np\n",
    "import pandas as pd\n",
    "import sys\n",
    "import os\n",
    "import PIL\n",
    "from pathlib import Path\n",
    "from PIL import Image\n",
    "import imagehash\n",
    "from math import sqrt\n",
    "import copy\n",
    "\n",
    "import cv2\n",
    "from skimage.metrics import structural_similarity as ssim"
   ]
  },
  {
   "cell_type": "code",
   "execution_count": null,
   "id": "90c83bdb5611c54c",
   "metadata": {
    "collapsed": false
   },
   "outputs": [],
   "source": [
    "def compare_patient_skin_images(image1_path, image2_path):\n",
    "    # Load the images\n",
    "    img1 = Image.open(image1_path)\n",
    "    img2 = Image.open(image2_path)\n",
    "\n",
    "    # No resizing needed as images are already standardized to 224x224\n",
    "\n",
    "    # Convert to RGB if needed\n",
    "    if img1.mode != 'RGB':\n",
    "        img1 = img1.convert('RGB')\n",
    "    if img2.mode != 'RGB':\n",
    "        img2 = img2.convert('RGB')\n",
    "\n",
    "    # Calculate multiple perceptual hashes (more robust for medical images)\n",
    "    phash1 = imagehash.phash(img1, hash_size=8)  # Power of 2 (8x8 = 64 bits)\n",
    "    phash2 = imagehash.phash(img2, hash_size=8)\n",
    "    phash_diff = phash1 - phash2\n",
    "\n",
    "    # Average hash is more sensitive to color changes (important for skin conditions)\n",
    "    ahash1 = imagehash.average_hash(img1, hash_size=8)  # Power of 2 (8x8 = 64 bits)\n",
    "    ahash2 = imagehash.average_hash(img2, hash_size=8)\n",
    "    ahash_diff = ahash1 - ahash2\n",
    "\n",
    "    # Wavelet hash is good for capturing texture differences\n",
    "    whash1 = imagehash.whash(img1, hash_size=8)  # Must be power of 2\n",
    "    whash2 = imagehash.whash(img2, hash_size=8)\n",
    "    whash_diff = whash1 - whash2\n",
    "\n",
    "    # Color histogram comparison (important for skin tone/condition changes)\n",
    "    # Using a more detailed histogram with more bins\n",
    "    hist1 = [val for channel in img1.split() for val in channel.histogram()]\n",
    "    hist2 = [val for channel in img2.split() for val in channel.histogram()]\n",
    "    hist_diff = sqrt(sum((a - b) ** 2 for a, b in zip(hist1, hist2)) / len(hist1))\n",
    "\n",
    "    # Calculate structural similarity (SSIM) for added accuracy\n",
    "    # This requires numpy and scikit-image\n",
    "    try:\n",
    "        from skimage.metrics import structural_similarity as ssim\n",
    "        import numpy as np\n",
    "        img1_array = np.array(img1)\n",
    "        img2_array = np.array(img2)\n",
    "        ssim_value = ssim(img1_array, img2_array, channel_axis=2, data_range=255)\n",
    "        ssim_diff = 1 - ssim_value  # Convert to difference (0 = identical, 1 = completely different)\n",
    "    except ImportError:\n",
    "        ssim_diff = None\n",
    "\n",
    "    return {\n",
    "        \"perceptual_hash_diff\": phash_diff,\n",
    "        \"average_hash_diff\": ahash_diff,\n",
    "        \"wavelet_hash_diff\": whash_diff,\n",
    "        \"histogram_diff\": hist_diff,\n",
    "        \"ssim_diff\": ssim_diff,\n",
    "        \"combined_hash_score\": (phash_diff + ahash_diff + whash_diff) / 3\n",
    "    }\n",
    "\n",
    "def evaluate_skin_condition_similarity(image1_path, image2_path):\n",
    "    result = compare_patient_skin_images(image1_path, image2_path)\n",
    "\n",
    "    # Significantly stricter thresholds for standardized 224x224 images\n",
    "    phash_threshold = 18      \n",
    "    ahash_threshold = 10      \n",
    "    whash_threshold = 8       \n",
    "    hist_threshold = 200      \n",
    "    combined_threshold = 8    \n",
    "    ssim_threshold = 0.25     \n",
    "\n",
    "    # Print detailed results\n",
    "    print(f\"Perceptual hash difference: {result['perceptual_hash_diff']}\")\n",
    "    print(f\"Average hash difference: {result['average_hash_diff']}\")\n",
    "    print(f\"Wavelet hash difference: {result['wavelet_hash_diff']}\")\n",
    "    print(f\"Histogram difference: {result['histogram_diff']}\")\n",
    "    print(f\"Combined hash score: {result['combined_hash_score']}\")\n",
    "    if result['ssim_diff'] is not None:\n",
    "        print(f\"SSIM difference: {result['ssim_diff']}\")\n",
    "\n",
    "    # Stricter assessment criteria with multiple conditions that must be satisfied\n",
    "    if ((result['combined_hash_score'] < combined_threshold) and\n",
    "            (result['perceptual_hash_diff'] < phash_threshold) and\n",
    "            (result['average_hash_diff'] < ahash_threshold) and\n",
    "            (result['wavelet_hash_diff'] < whash_threshold) and\n",
    "            (result['histogram_diff'] < hist_threshold) and\n",
    "            (result['ssim_diff'] is None or result['ssim_diff'] < ssim_threshold)):\n",
    "        print(\"Assessment: Images show similar skin condition\")\n",
    "        return True\n",
    "    else:\n",
    "        print(\"Assessment: Images likely show different or changed skin condition\")\n",
    "        return False"
   ]
  },
  {
   "cell_type": "code",
   "execution_count": null,
   "id": "7af5c53a081f8884",
   "metadata": {
    "collapsed": false
   },
   "outputs": [],
   "source": [
    "duplicates_df = pd.read_csv('../data/ISIC_2020_Training_Duplicates.csv')\n",
    "duplicates_df"
   ]
  },
  {
   "cell_type": "code",
   "execution_count": null,
   "id": "9806ad0ff9331a6f",
   "metadata": {
    "collapsed": false
   },
   "outputs": [],
   "source": [
    "metadata_df = pd.read_csv('../data/ISIC_2020_Training_GroundTruth_v2.csv')\n",
    "metadata_df"
   ]
  },
  {
   "cell_type": "code",
   "execution_count": null,
   "id": "fd6ca98355fc651e",
   "metadata": {
    "collapsed": false
   },
   "outputs": [],
   "source": [
    "metadata_df = metadata_df.loc[metadata_df.target == 0]\n",
    "metadata_df"
   ]
  },
  {
   "cell_type": "code",
   "execution_count": null,
   "id": "a3bec91b95935a96",
   "metadata": {
    "collapsed": false
   },
   "outputs": [],
   "source": [
    "grouped_metadata = metadata_df['patient_id'].value_counts().reset_index()\n",
    "grouped_metadata"
   ]
  },
  {
   "cell_type": "code",
   "execution_count": null,
   "id": "47531baa4b7e02d0",
   "metadata": {
    "collapsed": false
   },
   "outputs": [],
   "source": [
    "duplicates_new_df = pd.DataFrame(columns=['image_name_1', 'image_name_2'])"
   ]
  },
  {
   "cell_type": "code",
   "execution_count": null,
   "id": "2cb4ffe39aa429d0",
   "metadata": {
    "collapsed": false
   },
   "outputs": [],
   "source": [
    "non_existant_images = []"
   ]
  },
  {
   "cell_type": "code",
   "execution_count": null,
   "id": "a9d4ddfea675be18",
   "metadata": {
    "collapsed": false
   },
   "outputs": [],
   "source": [
    "unique_ids = grouped_metadata['patient_id'].tolist()\n",
    "path = '../../train_224X224/'\n",
    "new_rows = []\n",
    "\n",
    "for id in unique_ids:\n",
    "    \n",
    "    patient_images = (metadata_df.where(metadata_df['patient_id'] == id)\n",
    "                                .dropna(axis=0)\n",
    "                                .reset_index()['image_name']\n",
    "                                .tolist())\n",
    "    \n",
    "    patient_images_copy = copy.deepcopy(patient_images)\n",
    "    \n",
    "    for image1 in patient_images:\n",
    "\n",
    "        image_1_path = path + image1 + '.jpg'\n",
    "        file1 = Path(image_1_path)\n",
    "            \n",
    "        if len(patient_images_copy) == 0:\n",
    "            break\n",
    "        \n",
    "        if image1 in patient_images_copy:\n",
    "            \n",
    "            patient_images_copy.remove(image1)\n",
    "            patient_images_subset = copy.deepcopy(patient_images_copy)\n",
    "            \n",
    "            if not file1.exists():\n",
    "                non_existant_images.append(image1)\n",
    "                continue\n",
    "        else:\n",
    "            continue\n",
    "        \n",
    "        for image2 in patient_images_subset:\n",
    "            \n",
    "            image_2_path = path + image2 + '.jpg'\n",
    "            file2 = Path(image_2_path)\n",
    "            \n",
    "            if not file2.exists():    \n",
    "                patient_images_copy.remove(image2)\n",
    "                non_existant_images.append(image2)\n",
    "                \n",
    "            else:\n",
    "                images_similar = evaluate_skin_condition_similarity(image_1_path, image_2_path)\n",
    "                if images_similar:\n",
    "                    patient_images_copy.remove(image2)\n",
    "                    new_rows.append([image1, image2])\n",
    "\n",
    "new_df = pd.DataFrame(new_rows, columns=duplicates_new_df.columns)\n",
    "duplicates_new_df = pd.concat([duplicates_new_df, new_df], ignore_index=True)\n",
    "        "
   ]
  },
  {
   "cell_type": "code",
   "execution_count": null,
   "id": "bf57dfdfddf38285",
   "metadata": {
    "collapsed": false
   },
   "outputs": [],
   "source": [
    "duplicates_new_df"
   ]
  },
  {
   "cell_type": "code",
   "execution_count": null,
   "id": "8911d6c06fb37b6e",
   "metadata": {
    "collapsed": false
   },
   "outputs": [],
   "source": [
    "df_nex = pd.DataFrame(non_existant_images, columns=['do_not_exist'])\n",
    "\n",
    "df_nex.to_csv('nonexistent_images.csv', index=False)\n",
    "duplicates_new_df.to_csv('new_training_duplicates.csv', index=False)"
   ]
  }
 ],
 "metadata": {
  "kernelspec": {
   "display_name": "Lumen",
   "language": "python",
   "name": "python3"
  },
  "language_info": {
   "codemirror_mode": {
    "name": "ipython",
    "version": 3
   },
   "file_extension": ".py",
   "mimetype": "text/x-python",
   "name": "python",
   "nbconvert_exporter": "python",
   "pygments_lexer": "ipython3",
   "version": "3.10.12"
  }
 },
 "nbformat": 4,
 "nbformat_minor": 5
}
