{
 "cells": [
  {
   "cell_type": "code",
   "outputs": [],
   "source": [
    "# Surpress warnings:\n",
    "def warn(*args, **kwargs):\n",
    "    pass\n",
    "import warnings\n",
    "warnings.warn = warn\n",
    "\n",
    "import numpy as np\n",
    "import pandas as pd\n",
    "import sys\n",
    "import os\n",
    "import PIL\n",
    "from pathlib import Path\n",
    "from PIL import Image\n",
    "import imagehash\n",
    "from math import sqrt\n",
    "import copy\n",
    "\n",
    "import cv2\n",
    "from skimage.metrics import structural_similarity as ssim"
   ],
   "metadata": {
    "collapsed": false,
    "ExecuteTime": {
     "end_time": "2025-02-24T17:46:36.917320800Z",
     "start_time": "2025-02-24T17:46:36.911825700Z"
    }
   },
   "id": "86c449da6170918b",
   "execution_count": 16
  },
  {
   "cell_type": "code",
   "outputs": [],
   "source": [
    "def compare_patient_skin_images(image1_path, image2_path):\n",
    "    # Load the images\n",
    "    img1 = Image.open(image1_path)\n",
    "    img2 = Image.open(image2_path)\n",
    "\n",
    "    # Standardize images to a common size for comparison\n",
    "    standard_size = (640, 480)  # Adjust based on your typical image resolution\n",
    "    img1_resized = img1.thumbnail(standard_size)\n",
    "    img2_resized = img2.thumbnail(standard_size)\n",
    "\n",
    "    # Convert to RGB if needed\n",
    "    if img1_resized.mode != 'RGB':\n",
    "        img1_resized = img1_resized.convert('RGB')\n",
    "    if img2_resized.mode != 'RGB':\n",
    "        img2_resized = img2_resized.convert('RGB')\n",
    "\n",
    "    # Calculate multiple perceptual hashes (more robust for medical images)\n",
    "    phash1 = imagehash.phash(img1_resized)\n",
    "    phash2 = imagehash.phash(img2_resized)\n",
    "    phash_diff = phash1 - phash2\n",
    "\n",
    "    # Average hash is more sensitive to color changes (important for skin conditions)\n",
    "    ahash1 = imagehash.average_hash(img1_resized, hash_size=12)  # Larger hash size for more detail\n",
    "    ahash2 = imagehash.average_hash(img2_resized, hash_size=12)\n",
    "    ahash_diff = ahash1 - ahash2\n",
    "\n",
    "    # Wavelet hash is good for capturing texture differences\n",
    "    whash1 = imagehash.whash(img1_resized)\n",
    "    whash2 = imagehash.whash(img2_resized)\n",
    "    whash_diff = whash1 - whash2\n",
    "\n",
    "    # Color histogram comparison (important for skin tone/condition changes)\n",
    "    hist1 = img1_resized.histogram()\n",
    "    hist2 = img2_resized.histogram()\n",
    "    hist_diff = sqrt(sum((a - b) ** 2 for a, b in zip(hist1, hist2)) / len(hist1))\n",
    "\n",
    "    return {\n",
    "        \"perceptual_hash_diff\": phash_diff,\n",
    "        \"average_hash_diff\": ahash_diff,\n",
    "        \"wavelet_hash_diff\": whash_diff,\n",
    "        \"histogram_diff\": hist_diff,\n",
    "        \"combined_hash_score\": (phash_diff + ahash_diff + whash_diff) / 3\n",
    "    }\n",
    "\n",
    "def evaluate_skin_condition_similarity(image1_path, image2_path):\n",
    "    result = compare_patient_skin_images(image1_path, image2_path)\n",
    "\n",
    "    # Medical image thresholds - more lenient than general photo comparison\n",
    "    # because we expect some variation in conditions\n",
    "    phash_threshold = 15  # More lenient for skin images\n",
    "    ahash_threshold = 18  # Color-sensitive hash\n",
    "    whash_threshold = 15  # Texture-sensitive hash\n",
    "    hist_threshold = 400  # More lenient for lighting variations\n",
    "    combined_threshold = 15\n",
    "\n",
    "    # Print detailed results\n",
    "    print(f\"Perceptual hash difference: {result['perceptual_hash_diff']}\")\n",
    "    print(f\"Average hash difference: {result['average_hash_diff']}\")\n",
    "    print(f\"Wavelet hash difference: {result['wavelet_hash_diff']}\")\n",
    "    print(f\"Histogram difference: {result['histogram_diff']}\")\n",
    "    print(f\"Combined hash score: {result['combined_hash_score']}\")\n",
    "\n",
    "    # Assess condition similarity using multiple metrics\n",
    "    if (result['combined_hash_score'] < combined_threshold or\n",
    "            (result['perceptual_hash_diff'] < phash_threshold and\n",
    "             result['wavelet_hash_diff'] < whash_threshold)):\n",
    "        print(\"Assessment: Images show similar skin condition\")\n",
    "        return True\n",
    "    else:\n",
    "        print(\"Assessment: Images likely show different or changed skin condition\")\n",
    "        return False"
   ],
   "metadata": {
    "collapsed": false,
    "ExecuteTime": {
     "end_time": "2025-02-24T17:46:36.928650Z",
     "start_time": "2025-02-24T17:46:36.919316500Z"
    }
   },
   "id": "90c83bdb5611c54c",
   "execution_count": 17
  },
  {
   "cell_type": "code",
   "outputs": [
    {
     "data": {
      "text/plain": "     image_name_1  image_name_2\n0    ISIC_0079038  ISIC_8521950\n1    ISIC_0087297  ISIC_4755972\n2    ISIC_0088137  ISIC_4201955\n3    ISIC_0112097  ISIC_5934021\n4    ISIC_0148783  ISIC_7460560\n..            ...           ...\n420  ISIC_8879370  ISIC_9596146\n421  ISIC_8889856  ISIC_9677697\n422  ISIC_8987085  ISIC_9751079\n423  ISIC_9218360  ISIC_9913406\n424  ISIC_9432244  ISIC_9645937\n\n[425 rows x 2 columns]",
      "text/html": "<div>\n<style scoped>\n    .dataframe tbody tr th:only-of-type {\n        vertical-align: middle;\n    }\n\n    .dataframe tbody tr th {\n        vertical-align: top;\n    }\n\n    .dataframe thead th {\n        text-align: right;\n    }\n</style>\n<table border=\"1\" class=\"dataframe\">\n  <thead>\n    <tr style=\"text-align: right;\">\n      <th></th>\n      <th>image_name_1</th>\n      <th>image_name_2</th>\n    </tr>\n  </thead>\n  <tbody>\n    <tr>\n      <th>0</th>\n      <td>ISIC_0079038</td>\n      <td>ISIC_8521950</td>\n    </tr>\n    <tr>\n      <th>1</th>\n      <td>ISIC_0087297</td>\n      <td>ISIC_4755972</td>\n    </tr>\n    <tr>\n      <th>2</th>\n      <td>ISIC_0088137</td>\n      <td>ISIC_4201955</td>\n    </tr>\n    <tr>\n      <th>3</th>\n      <td>ISIC_0112097</td>\n      <td>ISIC_5934021</td>\n    </tr>\n    <tr>\n      <th>4</th>\n      <td>ISIC_0148783</td>\n      <td>ISIC_7460560</td>\n    </tr>\n    <tr>\n      <th>...</th>\n      <td>...</td>\n      <td>...</td>\n    </tr>\n    <tr>\n      <th>420</th>\n      <td>ISIC_8879370</td>\n      <td>ISIC_9596146</td>\n    </tr>\n    <tr>\n      <th>421</th>\n      <td>ISIC_8889856</td>\n      <td>ISIC_9677697</td>\n    </tr>\n    <tr>\n      <th>422</th>\n      <td>ISIC_8987085</td>\n      <td>ISIC_9751079</td>\n    </tr>\n    <tr>\n      <th>423</th>\n      <td>ISIC_9218360</td>\n      <td>ISIC_9913406</td>\n    </tr>\n    <tr>\n      <th>424</th>\n      <td>ISIC_9432244</td>\n      <td>ISIC_9645937</td>\n    </tr>\n  </tbody>\n</table>\n<p>425 rows × 2 columns</p>\n</div>"
     },
     "execution_count": 18,
     "metadata": {},
     "output_type": "execute_result"
    }
   ],
   "source": [
    "duplicates_df = pd.read_csv('../data/ISIC_2020_Training_Duplicates.csv')\n",
    "duplicates_df"
   ],
   "metadata": {
    "collapsed": false,
    "ExecuteTime": {
     "end_time": "2025-02-24T17:46:36.945803700Z",
     "start_time": "2025-02-24T17:46:36.929648200Z"
    }
   },
   "id": "7af5c53a081f8884",
   "execution_count": 18
  },
  {
   "cell_type": "code",
   "outputs": [
    {
     "data": {
      "text/plain": "         image_name  patient_id   lesion_id     sex  age_approx  \\\n0      ISIC_2637011  IP_7279968  IL_7972535    male        45.0   \n1      ISIC_0015719  IP_3075186  IL_4649854  female        45.0   \n2      ISIC_0052212  IP_2842074  IL_9087444  female        50.0   \n3      ISIC_0068279  IP_6890425  IL_4255399  female        45.0   \n4      ISIC_0074268  IP_8723313  IL_6898037  female        55.0   \n...             ...         ...         ...     ...         ...   \n33121  ISIC_9999134  IP_6526534  IL_2076932    male        50.0   \n33122  ISIC_9999320  IP_3650745  IL_6891604    male        65.0   \n33123  ISIC_9999515  IP_2026598  IL_6364820    male        20.0   \n33124  ISIC_9999666  IP_7702038  IL_6048457    male        50.0   \n33125  ISIC_9999806  IP_0046310  IL_5788213    male        45.0   \n\n      anatom_site_general_challenge diagnosis benign_malignant  target  \n0                         head/neck   unknown           benign       0  \n1                   upper extremity   unknown           benign       0  \n2                   lower extremity     nevus           benign       0  \n3                         head/neck   unknown           benign       0  \n4                   upper extremity   unknown           benign       0  \n...                             ...       ...              ...     ...  \n33121                         torso   unknown           benign       0  \n33122                         torso   unknown           benign       0  \n33123               lower extremity   unknown           benign       0  \n33124               lower extremity   unknown           benign       0  \n33125                         torso     nevus           benign       0  \n\n[33126 rows x 9 columns]",
      "text/html": "<div>\n<style scoped>\n    .dataframe tbody tr th:only-of-type {\n        vertical-align: middle;\n    }\n\n    .dataframe tbody tr th {\n        vertical-align: top;\n    }\n\n    .dataframe thead th {\n        text-align: right;\n    }\n</style>\n<table border=\"1\" class=\"dataframe\">\n  <thead>\n    <tr style=\"text-align: right;\">\n      <th></th>\n      <th>image_name</th>\n      <th>patient_id</th>\n      <th>lesion_id</th>\n      <th>sex</th>\n      <th>age_approx</th>\n      <th>anatom_site_general_challenge</th>\n      <th>diagnosis</th>\n      <th>benign_malignant</th>\n      <th>target</th>\n    </tr>\n  </thead>\n  <tbody>\n    <tr>\n      <th>0</th>\n      <td>ISIC_2637011</td>\n      <td>IP_7279968</td>\n      <td>IL_7972535</td>\n      <td>male</td>\n      <td>45.0</td>\n      <td>head/neck</td>\n      <td>unknown</td>\n      <td>benign</td>\n      <td>0</td>\n    </tr>\n    <tr>\n      <th>1</th>\n      <td>ISIC_0015719</td>\n      <td>IP_3075186</td>\n      <td>IL_4649854</td>\n      <td>female</td>\n      <td>45.0</td>\n      <td>upper extremity</td>\n      <td>unknown</td>\n      <td>benign</td>\n      <td>0</td>\n    </tr>\n    <tr>\n      <th>2</th>\n      <td>ISIC_0052212</td>\n      <td>IP_2842074</td>\n      <td>IL_9087444</td>\n      <td>female</td>\n      <td>50.0</td>\n      <td>lower extremity</td>\n      <td>nevus</td>\n      <td>benign</td>\n      <td>0</td>\n    </tr>\n    <tr>\n      <th>3</th>\n      <td>ISIC_0068279</td>\n      <td>IP_6890425</td>\n      <td>IL_4255399</td>\n      <td>female</td>\n      <td>45.0</td>\n      <td>head/neck</td>\n      <td>unknown</td>\n      <td>benign</td>\n      <td>0</td>\n    </tr>\n    <tr>\n      <th>4</th>\n      <td>ISIC_0074268</td>\n      <td>IP_8723313</td>\n      <td>IL_6898037</td>\n      <td>female</td>\n      <td>55.0</td>\n      <td>upper extremity</td>\n      <td>unknown</td>\n      <td>benign</td>\n      <td>0</td>\n    </tr>\n    <tr>\n      <th>...</th>\n      <td>...</td>\n      <td>...</td>\n      <td>...</td>\n      <td>...</td>\n      <td>...</td>\n      <td>...</td>\n      <td>...</td>\n      <td>...</td>\n      <td>...</td>\n    </tr>\n    <tr>\n      <th>33121</th>\n      <td>ISIC_9999134</td>\n      <td>IP_6526534</td>\n      <td>IL_2076932</td>\n      <td>male</td>\n      <td>50.0</td>\n      <td>torso</td>\n      <td>unknown</td>\n      <td>benign</td>\n      <td>0</td>\n    </tr>\n    <tr>\n      <th>33122</th>\n      <td>ISIC_9999320</td>\n      <td>IP_3650745</td>\n      <td>IL_6891604</td>\n      <td>male</td>\n      <td>65.0</td>\n      <td>torso</td>\n      <td>unknown</td>\n      <td>benign</td>\n      <td>0</td>\n    </tr>\n    <tr>\n      <th>33123</th>\n      <td>ISIC_9999515</td>\n      <td>IP_2026598</td>\n      <td>IL_6364820</td>\n      <td>male</td>\n      <td>20.0</td>\n      <td>lower extremity</td>\n      <td>unknown</td>\n      <td>benign</td>\n      <td>0</td>\n    </tr>\n    <tr>\n      <th>33124</th>\n      <td>ISIC_9999666</td>\n      <td>IP_7702038</td>\n      <td>IL_6048457</td>\n      <td>male</td>\n      <td>50.0</td>\n      <td>lower extremity</td>\n      <td>unknown</td>\n      <td>benign</td>\n      <td>0</td>\n    </tr>\n    <tr>\n      <th>33125</th>\n      <td>ISIC_9999806</td>\n      <td>IP_0046310</td>\n      <td>IL_5788213</td>\n      <td>male</td>\n      <td>45.0</td>\n      <td>torso</td>\n      <td>nevus</td>\n      <td>benign</td>\n      <td>0</td>\n    </tr>\n  </tbody>\n</table>\n<p>33126 rows × 9 columns</p>\n</div>"
     },
     "execution_count": 19,
     "metadata": {},
     "output_type": "execute_result"
    }
   ],
   "source": [
    "metadata_df = pd.read_csv('../data/ISIC_2020_Training_GroundTruth_v2.csv')\n",
    "metadata_df"
   ],
   "metadata": {
    "collapsed": false,
    "ExecuteTime": {
     "end_time": "2025-02-24T17:46:37.037570100Z",
     "start_time": "2025-02-24T17:46:36.946841200Z"
    }
   },
   "id": "9806ad0ff9331a6f",
   "execution_count": 19
  },
  {
   "cell_type": "code",
   "outputs": [
    {
     "data": {
      "text/plain": "      patient_id  count\n0     IP_7279968    115\n1     IP_4382720    115\n2     IP_4938382    115\n3     IP_4479736    115\n4     IP_0656529    114\n...          ...    ...\n2051  IP_7765635      3\n2052  IP_3424938      3\n2053  IP_8003098      3\n2054  IP_3645134      3\n2055  IP_8335299      2\n\n[2056 rows x 2 columns]",
      "text/html": "<div>\n<style scoped>\n    .dataframe tbody tr th:only-of-type {\n        vertical-align: middle;\n    }\n\n    .dataframe tbody tr th {\n        vertical-align: top;\n    }\n\n    .dataframe thead th {\n        text-align: right;\n    }\n</style>\n<table border=\"1\" class=\"dataframe\">\n  <thead>\n    <tr style=\"text-align: right;\">\n      <th></th>\n      <th>patient_id</th>\n      <th>count</th>\n    </tr>\n  </thead>\n  <tbody>\n    <tr>\n      <th>0</th>\n      <td>IP_7279968</td>\n      <td>115</td>\n    </tr>\n    <tr>\n      <th>1</th>\n      <td>IP_4382720</td>\n      <td>115</td>\n    </tr>\n    <tr>\n      <th>2</th>\n      <td>IP_4938382</td>\n      <td>115</td>\n    </tr>\n    <tr>\n      <th>3</th>\n      <td>IP_4479736</td>\n      <td>115</td>\n    </tr>\n    <tr>\n      <th>4</th>\n      <td>IP_0656529</td>\n      <td>114</td>\n    </tr>\n    <tr>\n      <th>...</th>\n      <td>...</td>\n      <td>...</td>\n    </tr>\n    <tr>\n      <th>2051</th>\n      <td>IP_7765635</td>\n      <td>3</td>\n    </tr>\n    <tr>\n      <th>2052</th>\n      <td>IP_3424938</td>\n      <td>3</td>\n    </tr>\n    <tr>\n      <th>2053</th>\n      <td>IP_8003098</td>\n      <td>3</td>\n    </tr>\n    <tr>\n      <th>2054</th>\n      <td>IP_3645134</td>\n      <td>3</td>\n    </tr>\n    <tr>\n      <th>2055</th>\n      <td>IP_8335299</td>\n      <td>2</td>\n    </tr>\n  </tbody>\n</table>\n<p>2056 rows × 2 columns</p>\n</div>"
     },
     "execution_count": 20,
     "metadata": {},
     "output_type": "execute_result"
    }
   ],
   "source": [
    "grouped_metadata = metadata_df['patient_id'].value_counts().reset_index()\n",
    "grouped_metadata"
   ],
   "metadata": {
    "collapsed": false,
    "ExecuteTime": {
     "end_time": "2025-02-24T17:46:37.038538500Z",
     "start_time": "2025-02-24T17:46:37.008854Z"
    }
   },
   "id": "a3bec91b95935a96",
   "execution_count": 20
  },
  {
   "cell_type": "code",
   "outputs": [],
   "source": [
    "duplicates_new_df = pd.DataFrame(columns=['image_name_1', 'image_name_2'])"
   ],
   "metadata": {
    "collapsed": false,
    "ExecuteTime": {
     "end_time": "2025-02-24T17:46:37.038538500Z",
     "start_time": "2025-02-24T17:46:37.020077800Z"
    }
   },
   "id": "47531baa4b7e02d0",
   "execution_count": 21
  },
  {
   "cell_type": "code",
   "outputs": [
    {
     "ename": "AttributeError",
     "evalue": "'NoneType' object has no attribute 'mode'",
     "output_type": "error",
     "traceback": [
      "\u001B[1;31m---------------------------------------------------------------------------\u001B[0m",
      "\u001B[1;31mAttributeError\u001B[0m                            Traceback (most recent call last)",
      "Cell \u001B[1;32mIn[24], line 27\u001B[0m\n\u001B[0;32m     24\u001B[0m     \u001B[38;5;28;01mbreak\u001B[39;00m\n\u001B[0;32m     26\u001B[0m image_2 \u001B[38;5;241m=\u001B[39m path \u001B[38;5;241m+\u001B[39m image2 \u001B[38;5;241m+\u001B[39m \u001B[38;5;124m'\u001B[39m\u001B[38;5;124m.jpg\u001B[39m\u001B[38;5;124m'\u001B[39m\n\u001B[1;32m---> 27\u001B[0m images_similar \u001B[38;5;241m=\u001B[39m \u001B[43mevaluate_skin_condition_similarity\u001B[49m\u001B[43m(\u001B[49m\u001B[43mimage_1\u001B[49m\u001B[43m,\u001B[49m\u001B[43m \u001B[49m\u001B[43mimage_2\u001B[49m\u001B[43m)\u001B[49m\n\u001B[0;32m     29\u001B[0m \u001B[38;5;28;01mif\u001B[39;00m images_similar:\n\u001B[0;32m     30\u001B[0m     patient_images_subset\u001B[38;5;241m.\u001B[39mremove(image2)\n",
      "Cell \u001B[1;32mIn[17], line 46\u001B[0m, in \u001B[0;36mevaluate_skin_condition_similarity\u001B[1;34m(image1_path, image2_path)\u001B[0m\n\u001B[0;32m     45\u001B[0m \u001B[38;5;28;01mdef\u001B[39;00m \u001B[38;5;21mevaluate_skin_condition_similarity\u001B[39m(image1_path, image2_path):\n\u001B[1;32m---> 46\u001B[0m     result \u001B[38;5;241m=\u001B[39m \u001B[43mcompare_patient_skin_images\u001B[49m\u001B[43m(\u001B[49m\u001B[43mimage1_path\u001B[49m\u001B[43m,\u001B[49m\u001B[43m \u001B[49m\u001B[43mimage2_path\u001B[49m\u001B[43m)\u001B[49m\n\u001B[0;32m     48\u001B[0m     \u001B[38;5;66;03m# Medical image thresholds - more lenient than general photo comparison\u001B[39;00m\n\u001B[0;32m     49\u001B[0m     \u001B[38;5;66;03m# because we expect some variation in conditions\u001B[39;00m\n\u001B[0;32m     50\u001B[0m     phash_threshold \u001B[38;5;241m=\u001B[39m \u001B[38;5;241m15\u001B[39m  \u001B[38;5;66;03m# More lenient for skin images\u001B[39;00m\n",
      "Cell \u001B[1;32mIn[17], line 12\u001B[0m, in \u001B[0;36mcompare_patient_skin_images\u001B[1;34m(image1_path, image2_path)\u001B[0m\n\u001B[0;32m      9\u001B[0m img2_resized \u001B[38;5;241m=\u001B[39m img2\u001B[38;5;241m.\u001B[39mthumbnail(standard_size)\n\u001B[0;32m     11\u001B[0m \u001B[38;5;66;03m# Convert to RGB if needed\u001B[39;00m\n\u001B[1;32m---> 12\u001B[0m \u001B[38;5;28;01mif\u001B[39;00m \u001B[43mimg1_resized\u001B[49m\u001B[38;5;241;43m.\u001B[39;49m\u001B[43mmode\u001B[49m \u001B[38;5;241m!=\u001B[39m \u001B[38;5;124m'\u001B[39m\u001B[38;5;124mRGB\u001B[39m\u001B[38;5;124m'\u001B[39m:\n\u001B[0;32m     13\u001B[0m     img1_resized \u001B[38;5;241m=\u001B[39m img1_resized\u001B[38;5;241m.\u001B[39mconvert(\u001B[38;5;124m'\u001B[39m\u001B[38;5;124mRGB\u001B[39m\u001B[38;5;124m'\u001B[39m)\n\u001B[0;32m     14\u001B[0m \u001B[38;5;28;01mif\u001B[39;00m img2_resized\u001B[38;5;241m.\u001B[39mmode \u001B[38;5;241m!=\u001B[39m \u001B[38;5;124m'\u001B[39m\u001B[38;5;124mRGB\u001B[39m\u001B[38;5;124m'\u001B[39m:\n",
      "\u001B[1;31mAttributeError\u001B[0m: 'NoneType' object has no attribute 'mode'"
     ]
    }
   ],
   "source": [
    "unique_ids = grouped_metadata['patient_id'].tolist()\n",
    "path = '../../Lumen_Image_Data/train/'\n",
    "for id in unique_ids:\n",
    "    \n",
    "    patient_images = (metadata_df.where(metadata_df['patient_id'] == id)\n",
    "                                .dropna(axis=0)\n",
    "                                .reset_index()['image_name']\n",
    "                                .tolist())\n",
    "    \n",
    "    for image1 in patient_images:\n",
    "        \n",
    "        if len(patient_images) <= 1:\n",
    "            break\n",
    "        \n",
    "        image_1 = path + image1 + '.jpg'\n",
    "        patient_images_subset = copy.deepcopy(patient_images)\n",
    "        \n",
    "        patient_images_subset.remove(image1)\n",
    "        patient_images.remove(image1)\n",
    "        \n",
    "        for image2 in patient_images_subset:\n",
    "            \n",
    "            if len(patient_images_subset) <= 1:\n",
    "                break\n",
    "            \n",
    "            image_2 = path + image2 + '.jpg'\n",
    "            images_similar = evaluate_skin_condition_similarity(image_1, image_2)\n",
    "            \n",
    "            if images_similar:\n",
    "                patient_images_subset.remove(image2)\n",
    "                patient_images.remove(image2)\n",
    "\n",
    "                duplicates_new_df.loc[len(duplicates_new_df)] = [image1, image2]\n",
    "        "
   ],
   "metadata": {
    "collapsed": false,
    "ExecuteTime": {
     "end_time": "2025-02-24T17:51:39.787376100Z",
     "start_time": "2025-02-24T17:51:39.648082200Z"
    }
   },
   "id": "a9d4ddfea675be18",
   "execution_count": 24
  }
 ],
 "metadata": {
  "kernelspec": {
   "display_name": "Python 3",
   "language": "python",
   "name": "python3"
  },
  "language_info": {
   "codemirror_mode": {
    "name": "ipython",
    "version": 2
   },
   "file_extension": ".py",
   "mimetype": "text/x-python",
   "name": "python",
   "nbconvert_exporter": "python",
   "pygments_lexer": "ipython2",
   "version": "2.7.6"
  }
 },
 "nbformat": 4,
 "nbformat_minor": 5
}
